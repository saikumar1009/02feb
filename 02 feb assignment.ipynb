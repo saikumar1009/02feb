{
 "cells": [
  {
   "cell_type": "markdown",
   "id": "24531de2-1dba-4782-b256-8a10ffe48528",
   "metadata": {},
   "source": [
    "#02 feb assignment"
   ]
  },
  {
   "cell_type": "markdown",
   "id": "c94008b6-5453-4650-bb24-1ad871ed808d",
   "metadata": {},
   "source": [
    "#question 1\n",
    "These tuples are an ordered collection of elements of different data types. Furthermore, we represent them by writing the elements inside the parenthesis separated by commas. We can also define tuples as lists that we cannot change. Therefore, we can call them immutable tuples."
   ]
  },
  {
   "cell_type": "markdown",
   "id": "fb38f460-86d0-4b50-9ec2-b7ab1ba4e5db",
   "metadata": {},
   "source": [
    "#question 2\n",
    "A tuple in Python is similar to a list. The difference between the two is that we cannot change the elements of a tuple once it is assigned whereas we can change the elements of a list.\n",
    "Creating a Tuple\n",
    "A tuple is created by placing all the items (elements) inside parentheses (), separated by commas. The parentheses are optional, however, it is a good practice to use them.\n",
    "\n",
    "A tuple can have any number of items and they may be of different types (integer, float, list, string, etc.).\n",
    "count:\n",
    "\tReturns the number of times a specified value occurs in a tuple\n",
    "index:\n",
    "Searches the tuple for a specified value and returns the position of where it was found\n"
   ]
  },
  {
   "cell_type": "code",
   "execution_count": 2,
   "id": "2d47475f-9167-4c46-91f6-73df08215d08",
   "metadata": {},
   "outputs": [
    {
     "name": "stdout",
     "output_type": "stream",
     "text": [
      "2\n",
      "3\n"
     ]
    }
   ],
   "source": [
    "thistuple = (1, 3, 7, 8, 7, 5, 4, 6, 8, 5)\n",
    "\n",
    "x = thistuple.count(5)\n",
    "\n",
    "print(x)\n",
    "thistuple = (1, 3, 7, 8, 7, 5, 4, 6, 8, 5)\n",
    "\n",
    "x = thistuple.index(8)\n",
    "\n",
    "print(x)"
   ]
  },
  {
   "cell_type": "markdown",
   "id": "959c7908-18a7-4f73-8f7d-2b1687c845f7",
   "metadata": {},
   "source": [
    "#question 3\n",
    " Python Collection Types Sets Sets are a collection that is unordered and unindexed. They are mutable (changeable) but do not allow duplicate values to be held"
   ]
  },
  {
   "cell_type": "code",
   "execution_count": 1,
   "id": "15876d9e-e1d2-4d92-b390-68ebbfe45113",
   "metadata": {},
   "outputs": [
    {
     "name": "stdout",
     "output_type": "stream",
     "text": [
      "[1, 2, 3, 4]\n"
     ]
    }
   ],
   "source": [
    "List = [1, 1, 1, 2, 1, 3, 1, 4, 2, 1, 2, 2, 2, 3, 2, 4, 3, 1, 3, 2, 3, 3, 3, 4, 4, 1, 4, 2, 4, 3, 4, 4]\n",
    "l1=set(List)\n",
    "print(list(l1))"
   ]
  },
  {
   "cell_type": "markdown",
   "id": "4a2bd449-624d-4fad-acf2-975da6f39d1b",
   "metadata": {},
   "source": [
    "#question 4\n",
    "t is very similar to union () method, with difference is that where union () method create and return a new set, containing all the elements (distinct) present in all the iterables, update () method updates the set on which this method is called with all the distinct elements present in all the iterables."
   ]
  },
  {
   "cell_type": "code",
   "execution_count": null,
   "id": "bda3b441-6138-42fa-adcc-42d9d2f18ac3",
   "metadata": {},
   "outputs": [],
   "source": [
    "# Python Set Union\n",
    "# create set object and assign it to variable A\n",
    "A = {1,2,3,4,5}\n",
    "\n",
    "# create set object and assign it to variable B\n",
    "B = {4,5,6,7,8,9}\n",
    "\n",
    "# call union method to get union of set A and B and assign it to variable S\n",
    "S = A.union(B)\n",
    "\n",
    "# print all the values of set A, B and S\n",
    "print('A : ',A)\n",
    "print('B : ',B)\n",
    "print('A Union B : ',S)"
   ]
  },
  {
   "cell_type": "code",
   "execution_count": null,
   "id": "c7b862a8-bc8a-4af0-9857-557e8c5ff431",
   "metadata": {},
   "outputs": [],
   "source": [
    "# Python Set Union\n",
    "# create set object and assign it to variable A\n",
    "A = {1,2,3,4,5}\n",
    "\n",
    "# create set object and assign it to variable B\n",
    "B = {4,5,6,7,8,9}\n",
    "\n",
    "# call update method to get union of set A and B by updating set A\n",
    "A.update(B)\n",
    "\n",
    "# print all the values of set A\n",
    "print('A Union B : ',A)\n",
    "\n",
    "# create list object and assign it to variable L\n",
    "L = [11,12,13,14,15]\n",
    "\n",
    "# call update method to get union of set A, B and list L by updating set A\n",
    "A.update(B,L)\n",
    "\n",
    "# print all the values of set A\n",
    "print('A Union B Union L : ',A)"
   ]
  },
  {
   "cell_type": "markdown",
   "id": "d1fb0f91-51e8-4a85-bfc2-632009599d27",
   "metadata": {},
   "source": [
    "#question 5\n",
    "Dictionaries are used to store data values in key:value pairs.\n",
    "\n",
    "A dictionary is a collection which is ordered*, changeable and do not allow duplicates.\n",
    "\n",
    "Dictionaries are written with curly brackets, and have keys and values:\n",
    "When we say that dictionaries are ordered, it means that the items have a defined order, and that order will not change.\n",
    "\n",
    "Unordered means that the items does not have a defined order, you cannot refer to an item by using an index.\n",
    "\n"
   ]
  },
  {
   "cell_type": "code",
   "execution_count": null,
   "id": "771f1973-7c3d-4b44-9fad-054845fe3f9f",
   "metadata": {},
   "outputs": [],
   "source": [
    "thisdict = {\n",
    "  \"brand\": \"Ford\",\n",
    "  \"model\": \"Mustang\",\n",
    "  \"year\": 1964\n",
    "}\n",
    "print(thisdict)\n",
    "print(thisdict[\"brand\"])\n"
   ]
  },
  {
   "cell_type": "markdown",
   "id": "7574961c-75ec-40d7-93a9-34098e668164",
   "metadata": {},
   "source": [
    "#question 6\n",
    "a nested dictionary is a dictionary inside a dictionary. It's a collection of dictionaries into one single dictionary.\n",
    "nested_dict = { 'dictA': {'key_1': 'value_1'},\n",
    "                'dictB': {'key_2': 'value_2'}}\n",
    "Here, the nested_dict is a nested dictionary with the dictionary dictA and dictB. They are two dictionary each having own key and value."
   ]
  },
  {
   "cell_type": "code",
   "execution_count": null,
   "id": "2bc9b0e7-e4c1-4863-90da-85e1a347db5b",
   "metadata": {},
   "outputs": [],
   "source": [
    "people = {1: {'name': 'John', 'age': '27', 'sex': 'Male'},\n",
    "          2: {'name': 'Marie', 'age': '22', 'sex': 'Female'}}\n",
    "\n",
    "print(people[1]['name'])\n",
    "print(people[1]['age'])\n",
    "print(people[1]['sex'])\n",
    "people = {1: {'name': 'John', 'age': '27', 'sex': 'Male'},\n",
    "          2: {'name': 'Marie', 'age': '22', 'sex': 'Female'}}\n",
    "\n",
    "people[3] = {}\n",
    "\n",
    "people[3]['name'] = 'Luna'\n",
    "people[3]['age'] = '24'\n",
    "people[3]['sex'] = 'Female'\n",
    "people[3]['married'] = 'No'\n"
   ]
  },
  {
   "cell_type": "markdown",
   "id": "1e1674b2-f3cb-4a8b-9bea-88469f9072f6",
   "metadata": {},
   "source": [
    "#question 7\n",
    "The setdefault() method returns the value of the item with the specified key.\n",
    "\n",
    "If the key does not exist, insert the key, with the specified value"
   ]
  },
  {
   "cell_type": "code",
   "execution_count": 7,
   "id": "f9892ec3-85b1-4f3b-8c3a-666d67d52b12",
   "metadata": {},
   "outputs": [
    {
     "name": "stdout",
     "output_type": "stream",
     "text": [
      "{'language': 'Python', 'course': 'Data Science Masters', 'topics': ['Python', 'Machine Learning’, \"Deep Learning']}\n"
     ]
    }
   ],
   "source": [
    "print(dict1)"
   ]
  },
  {
   "cell_type": "code",
   "execution_count": 6,
   "id": "7893c044-0076-4e74-a000-915444d6f805",
   "metadata": {},
   "outputs": [
    {
     "data": {
      "text/plain": [
       "['Python', 'Machine Learning’, \"Deep Learning']"
      ]
     },
     "execution_count": 6,
     "metadata": {},
     "output_type": "execute_result"
    }
   ],
   "source": [
    "dict1 = {'language' : 'Python', 'course': 'Data Science Masters'}\n",
    "dict1.setdefault(\"topics\",['Python', 'Machine Learning’, \"Deep Learning'])"
   ]
  },
  {
   "cell_type": "markdown",
   "id": "08dd67c7-e780-4b6d-9518-d8bac2ca4b86",
   "metadata": {},
   "source": [
    "#question 8\n",
    "dictionary view objects with the built-in methods dict.keys, dict.values, and dict.items,"
   ]
  },
  {
   "cell_type": "code",
   "execution_count": 8,
   "id": "569326cb-9640-491d-b303-c1bd551ef6ec",
   "metadata": {},
   "outputs": [
    {
     "name": "stdout",
     "output_type": "stream",
     "text": [
      "dict_keys(['Sport', 'Teams'])\n",
      "dict_values(['Cricket', ['India', 'Australia', 'England', 'South Africa', 'Sri Lanka', 'New Zealand']])\n",
      "dict_items([('Sport', 'Cricket'), ('Teams', ['India', 'Australia', 'England', 'South Africa', 'Sri Lanka', 'New Zealand'])])\n"
     ]
    }
   ],
   "source": [
    "dict1 = {'Sport': 'Cricket' , 'Teams': ['India', 'Australia', 'England', 'South Africa', 'Sri Lanka', 'New Zealand']}\n",
    "print(dict1.keys())\n",
    "print(dict1.values())\n",
    "print(dict1.items())"
   ]
  },
  {
   "cell_type": "code",
   "execution_count": null,
   "id": "68cbce97-32c1-4db8-992f-e93f2bab15f1",
   "metadata": {},
   "outputs": [],
   "source": []
  }
 ],
 "metadata": {
  "kernelspec": {
   "display_name": "Python 3 (ipykernel)",
   "language": "python",
   "name": "python3"
  },
  "language_info": {
   "codemirror_mode": {
    "name": "ipython",
    "version": 3
   },
   "file_extension": ".py",
   "mimetype": "text/x-python",
   "name": "python",
   "nbconvert_exporter": "python",
   "pygments_lexer": "ipython3",
   "version": "3.10.8"
  }
 },
 "nbformat": 4,
 "nbformat_minor": 5
}
